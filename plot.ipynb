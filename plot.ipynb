# Original Code at: https://colab.research.google.com/drive/1T8CBwxdPgfZ5ZUX-g9HXEK8PQujxLWs2
# Third Step
# Author: David Burns
# License: BSD

import matplotlib.pyplot as plt
import numpy as np
from sklearn.discriminant_analysis import LinearDiscriminantAnalysis

import seglearn as sgl


def plot_embedding(emb, y, y_labels):
    # plot a 2D feature map embedding
    x_min, x_max = np.min(emb, 0), np.max(emb, 0)
    emb = (emb - x_min) / (x_max - x_min)

    NC = len(y_labels)
    markers = ['.', '+', 'x', '|', '_', '*', 'o','v','^','<']

    fig = plt.figure()
    fig.set_size_inches(6, 6)

    for c in range(NC):
        i = y == c
        plt.scatter(emb[i, 0], emb[i, 1], marker=markers[c], label=y_labels[c])

    plt.xticks([]), plt.yticks([])
    plt.legend()
    plt.tight_layout()


 
# load the data
#data = sgl.load_watch()
lst = []
for n in [4,14,22,23,25,55,61,66,69,71]:
  name = "/content/sample_data/Case"+str(n)+".txt" #put data files under ' sample_data' folder
  file = open(name)
  single = [] 
  for line in file:
      info = []
      fields = line.split(",")
      fields = ', '.join(fields) 
      fields = np.fromstring(fields, dtype = np.float, sep =', ' )
      single.append(fields[1:9])
  lst.append(np.array(single))
file.close()

X = lst #data['X']  
y = range(0,10) 

# create a pipeline for LDA transformation of the feature representation
clf = sgl.Pype([('segment', sgl.SegmentX()),
                ('ftr', sgl.FeatureRep()),
                ('lda', LinearDiscriminantAnalysis(n_components=2))])

X2, y2 = clf.fit_transform(X, y)
plot_embedding(X2, y2.astype(int), ['4','14','22','23','25','55','61','66','69','71']) #
plt.show()